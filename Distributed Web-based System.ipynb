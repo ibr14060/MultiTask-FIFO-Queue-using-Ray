{
  "nbformat": 4,
  "nbformat_minor": 0,
  "metadata": {
    "colab": {
      "provenance": [],
      "authorship_tag": "ABX9TyNJ4VH20JovO1wKCk5IylrD",
      "include_colab_link": true
    },
    "kernelspec": {
      "name": "python3",
      "display_name": "Python 3"
    },
    "language_info": {
      "name": "python"
    }
  },
  "cells": [
    {
      "cell_type": "markdown",
      "metadata": {
        "id": "view-in-github",
        "colab_type": "text"
      },
      "source": [
        "<a href=\"https://colab.research.google.com/github/ibr14060/MultiTask-FIFO-Queue-using-Ray/blob/main/Distributed%20Web-based%20System.ipynb\" target=\"_parent\"><img src=\"https://colab.research.google.com/assets/colab-badge.svg\" alt=\"Open In Colab\"/></a>"
      ]
    },
    {
      "cell_type": "code",
      "execution_count": null,
      "metadata": {
        "colab": {
          "base_uri": "https://localhost:8080/"
        },
        "id": "Bp-F-W6L8Fop",
        "outputId": "4394eba5-fdbf-48a1-f611-c389cd8f627d"
      },
      "outputs": [
        {
          "output_type": "stream",
          "name": "stdout",
          "text": [
            "Requirement already satisfied: ray in /usr/local/lib/python3.10/dist-packages (2.21.0)\n",
            "Requirement already satisfied: click>=7.0 in /usr/local/lib/python3.10/dist-packages (from ray) (8.1.7)\n",
            "Requirement already satisfied: filelock in /usr/local/lib/python3.10/dist-packages (from ray) (3.14.0)\n",
            "Requirement already satisfied: jsonschema in /usr/local/lib/python3.10/dist-packages (from ray) (4.19.2)\n",
            "Requirement already satisfied: msgpack<2.0.0,>=1.0.0 in /usr/local/lib/python3.10/dist-packages (from ray) (1.0.8)\n",
            "Requirement already satisfied: packaging in /usr/local/lib/python3.10/dist-packages (from ray) (24.0)\n",
            "Requirement already satisfied: protobuf!=3.19.5,>=3.15.3 in /usr/local/lib/python3.10/dist-packages (from ray) (3.20.3)\n",
            "Requirement already satisfied: pyyaml in /usr/local/lib/python3.10/dist-packages (from ray) (6.0.1)\n",
            "Requirement already satisfied: aiosignal in /usr/local/lib/python3.10/dist-packages (from ray) (1.3.1)\n",
            "Requirement already satisfied: frozenlist in /usr/local/lib/python3.10/dist-packages (from ray) (1.4.1)\n",
            "Requirement already satisfied: requests in /usr/local/lib/python3.10/dist-packages (from ray) (2.31.0)\n",
            "Requirement already satisfied: attrs>=22.2.0 in /usr/local/lib/python3.10/dist-packages (from jsonschema->ray) (23.2.0)\n",
            "Requirement already satisfied: jsonschema-specifications>=2023.03.6 in /usr/local/lib/python3.10/dist-packages (from jsonschema->ray) (2023.12.1)\n",
            "Requirement already satisfied: referencing>=0.28.4 in /usr/local/lib/python3.10/dist-packages (from jsonschema->ray) (0.35.1)\n",
            "Requirement already satisfied: rpds-py>=0.7.1 in /usr/local/lib/python3.10/dist-packages (from jsonschema->ray) (0.18.1)\n",
            "Requirement already satisfied: charset-normalizer<4,>=2 in /usr/local/lib/python3.10/dist-packages (from requests->ray) (3.3.2)\n",
            "Requirement already satisfied: idna<4,>=2.5 in /usr/local/lib/python3.10/dist-packages (from requests->ray) (3.7)\n",
            "Requirement already satisfied: urllib3<3,>=1.21.1 in /usr/local/lib/python3.10/dist-packages (from requests->ray) (2.0.7)\n",
            "Requirement already satisfied: certifi>=2017.4.17 in /usr/local/lib/python3.10/dist-packages (from requests->ray) (2024.2.2)\n"
          ]
        }
      ],
      "source": [
        "#install the ray package\n",
        "!pip install ray"
      ]
    },
    {
      "cell_type": "code",
      "source": [
        "# define first function\n",
        "def factorial(x):\n",
        "  fac=1\n",
        "  for i in range (1,x+1):\n",
        "    fac= fac * i\n",
        "  return(fac)\n",
        "\n",
        "print(factorial(5))"
      ],
      "metadata": {
        "colab": {
          "base_uri": "https://localhost:8080/"
        },
        "id": "CX61KPNdGcsd",
        "outputId": "69798619-a307-4f88-a0d5-0fb505dfcbd6"
      },
      "execution_count": null,
      "outputs": [
        {
          "output_type": "stream",
          "name": "stdout",
          "text": [
            "120\n"
          ]
        }
      ]
    },
    {
      "cell_type": "code",
      "source": [
        "#define the second function\n",
        "def add(x,y):\n",
        "  return (x+y)\n",
        "\n",
        "print(add(2,3))"
      ],
      "metadata": {
        "colab": {
          "base_uri": "https://localhost:8080/"
        },
        "id": "vceeN0WaJCmb",
        "outputId": "c36bfc5c-d1ad-4889-9d52-a2b46b75b722"
      },
      "execution_count": null,
      "outputs": [
        {
          "output_type": "stream",
          "name": "stdout",
          "text": [
            "5\n"
          ]
        }
      ]
    },
    {
      "cell_type": "code",
      "source": [
        "# define the third function\n",
        "def square(z):\n",
        "  return(z*z)\n",
        "\n",
        "print(square(5))"
      ],
      "metadata": {
        "colab": {
          "base_uri": "https://localhost:8080/"
        },
        "id": "W62Xb92wIV_P",
        "outputId": "abe0b9b9-3320-41b5-d05f-3d91443f18a3"
      },
      "execution_count": null,
      "outputs": [
        {
          "output_type": "stream",
          "name": "stdout",
          "text": [
            "25\n"
          ]
        }
      ]
    },
    {
      "cell_type": "code",
      "source": [
        "#define the fourth function\n",
        "\n",
        "def get(w):\n",
        "  return(w)\n",
        "\n",
        "print(get(7))"
      ],
      "metadata": {
        "colab": {
          "base_uri": "https://localhost:8080/"
        },
        "id": "6MMcF5UOI_xV",
        "outputId": "11ea9542-020d-413d-d5fd-661072a8b90b"
      },
      "execution_count": null,
      "outputs": [
        {
          "output_type": "stream",
          "name": "stdout",
          "text": [
            "7\n"
          ]
        }
      ]
    },
    {
      "cell_type": "code",
      "source": [
        "#defint the fifth function\n",
        "\n",
        "def addten(a):\n",
        "  return(a+10)\n",
        "\n",
        "print(addten(13))"
      ],
      "metadata": {
        "colab": {
          "base_uri": "https://localhost:8080/"
        },
        "id": "kG5D4KQMJ66p",
        "outputId": "9f174baa-a6f2-4200-9255-7a98623e6325"
      },
      "execution_count": null,
      "outputs": [
        {
          "output_type": "stream",
          "name": "stdout",
          "text": [
            "23\n"
          ]
        }
      ]
    },
    {
      "cell_type": "code",
      "source": [
        "# create a class for queue and add function enqueue for adding functions into the queue and function dequeue to remove from the queue\n",
        "class Queue:\n",
        "    def __init__(self):\n",
        "        self.queue = []\n",
        "\n",
        "    def enqueue(self, name, arguments, attributes):\n",
        "        entry = (name, arguments, attributes)\n",
        "        self.queue.append(entry)\n",
        "\n",
        "    def dequeue(self):\n",
        "        if len(self.queue) == 0:\n",
        "            return None\n",
        "        return self.queue.pop(0)\n"
      ],
      "metadata": {
        "id": "Q_rmGLeZQ-NB"
      },
      "execution_count": null,
      "outputs": []
    },
    {
      "cell_type": "code",
      "source": [
        "import ray\n",
        "import time\n",
        "\n",
        "# Initialize Ray\n",
        "ray.init()\n",
        "\n",
        "@ray.remote\n",
        "def execute_job(job):\n",
        "    function_name, arguments, attributes = job  # Unpack the job come to get each tuble alone\n",
        "    time.sleep(1)  # Adjust the sleep duration as needed\n",
        "    result = function_name(*arguments) # get the result of each method\n",
        "    return result # return the result\n",
        "\n",
        "def dequeue_then_execute(queue):\n",
        "    while True:\n",
        "        # Dequeue two functions at a time\n",
        "        first_job = queue.dequeue()\n",
        "        second_job = queue.dequeue()\n",
        "\n",
        "        # check if there are any jobs left if so exit the while loop\n",
        "        if first_job is None and second_job is None:\n",
        "            break\n",
        "\n",
        "        # check if there are two jobs or only one job\n",
        "        if first_job is not None and second_job is not None:\n",
        "\n",
        "            function_name1, arguments1, attributes1 = first_job\n",
        "            function_name2, arguments2, attributes2 = second_job\n",
        "\n",
        "            # Check if the two functions have the same attributes or not\n",
        "            overlap = set(attributes1).intersection(set(attributes2))\n",
        "\n",
        "            if overlap:\n",
        "                # If there's overlap, execute the first one then the second\n",
        "                print(\"Executing first function with name\", function_name1.__name__, \" followed by second one\", function_name2.__name__)\n",
        "                result1 = ray.get(execute_job.remote(first_job))\n",
        "                print(\"Executed\", function_name1.__name__, \"with arguments:\", arguments1, \"Result:\", result1)\n",
        "                result2 = ray.get(execute_job.remote(second_job))\n",
        "                print(\"Executed\", function_name2.__name__, \"with arguments:\", arguments2, \"Result:\", result2)\n",
        "            else:\n",
        "                # If no overlap, execute both at the same time\n",
        "                print(\"Executing first function with name\", function_name1.__name__, \"and second one \", function_name2.__name__, \"concurrently\")\n",
        "                result1, result2 = ray.get([execute_job.remote(first_job), execute_job.remote(second_job)])\n",
        "                print(\"Executed\", function_name1.__name__, \"with arguments:\", arguments1, \"Result:\", result1)\n",
        "                print(\"Executed\", function_name2.__name__, \"with arguments:\", arguments2, \"Result:\", result2)\n",
        "        # if there is one remaining job run it alone\n",
        "        if first_job is not None and second_job is None:\n",
        "            function_name1, arguments1, attributes1 = first_job\n",
        "            print(\"Executing\", function_name1.__name__, \"and there are no other jobs\")\n",
        "            result1 = ray.get(execute_job.remote(first_job))\n",
        "            print(\"Executed\", function_name1.__name__, \"with arguments:\", arguments1, \"Result:\", result1)\n",
        "\n"
      ],
      "metadata": {
        "colab": {
          "base_uri": "https://localhost:8080/"
        },
        "id": "12vT9eQXogsJ",
        "outputId": "fcdea040-7c6d-4897-881d-46002a935203"
      },
      "execution_count": null,
      "outputs": [
        {
          "output_type": "stream",
          "name": "stderr",
          "text": [
            "2024-05-13 17:29:21,070\tINFO worker.py:1749 -- Started a local Ray instance.\n"
          ]
        }
      ]
    },
    {
      "cell_type": "code",
      "source": [
        "\n",
        "job_queue = Queue() # initialize an empty queue\n",
        "\n",
        "# Enqueue jobs into the queue\n",
        "job_queue.enqueue(add, (6,3), ['h','y']) # enqueue the add function with attributes h and y\n",
        "job_queue.enqueue(factorial, (5,), ['x']) # enqueue the factorial function with x\n",
        "job_queue.enqueue(addten, (5,), ['y']) # enqueue addten function with y\n",
        "job_queue.enqueue(square, (5,), ['l']) # enqueue square function with l\n",
        "job_queue.enqueue(get, (5,), ['m']) # enqueue get function with m\n",
        "\n",
        "# Call dequeue_and_execute function\n",
        "dequeue_then_execute(job_queue)\n",
        "\n",
        "# Shut down Ray\n",
        "ray.shutdown()"
      ],
      "metadata": {
        "colab": {
          "base_uri": "https://localhost:8080/"
        },
        "id": "xVkQjk13sIAt",
        "outputId": "2212ce02-d8ce-44e5-a379-88ef3f0edb91"
      },
      "execution_count": null,
      "outputs": [
        {
          "output_type": "stream",
          "name": "stdout",
          "text": [
            "Executing first function with name add and second one  factorial concurrently\n",
            "Executed add with arguments: (6, 3) Result: 9\n",
            "Executed factorial with arguments: (5,) Result: 120\n",
            "Executing first function with name addten and second one  square concurrently\n",
            "Executed addten with arguments: (5,) Result: 15\n",
            "Executed square with arguments: (5,) Result: 25\n",
            "Executing get and there are no other jobs\n",
            "Executed get with arguments: (5,) Result: 5\n"
          ]
        }
      ]
    },
    {
      "cell_type": "code",
      "source": [
        "\n",
        "job_queue = Queue() # initialize an empty queue\n",
        "\n",
        "# Enqueue jobs into the queue\n",
        "job_queue.enqueue(add, (6,3), ['x','y']) # enqueue the add function with attributes x and y\n",
        "job_queue.enqueue(factorial, (5,), ['x']) # enqueue the factorial function with x\n",
        "job_queue.enqueue(addten, (5,), ['y']) # enqueue addten function with y\n",
        "job_queue.enqueue(square, (5,), ['l']) # enqueue square function with l\n",
        "job_queue.enqueue(get, (5,), ['m']) # enqueue get function with m\n",
        "\n",
        "# Call dequeue_and_execute function\n",
        "dequeue_then_execute(job_queue)\n",
        "\n",
        "# Shut down Ray\n",
        "ray.shutdown()"
      ],
      "metadata": {
        "colab": {
          "base_uri": "https://localhost:8080/"
        },
        "id": "oxFgzsCRs4wE",
        "outputId": "72d0f984-cf44-4edc-a10a-9c77be639342"
      },
      "execution_count": null,
      "outputs": [
        {
          "output_type": "stream",
          "name": "stdout",
          "text": [
            "Executing first function with name add  followed by second one factorial\n",
            "Executed add with arguments: (6, 3) Result: 9\n",
            "Executed factorial with arguments: (5,) Result: 120\n",
            "Executing first function with name addten and second one  square concurrently\n",
            "Executed addten with arguments: (5,) Result: 15\n",
            "Executed square with arguments: (5,) Result: 25\n",
            "Executing get and there are no other jobs\n",
            "Executed get with arguments: (5,) Result: 5\n"
          ]
        }
      ]
    }
  ]
}